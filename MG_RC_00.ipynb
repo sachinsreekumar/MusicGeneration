{
 "cells": [
  {
   "cell_type": "markdown",
   "id": "32849b46-fc52-47ac-9541-5c2f72129e74",
   "metadata": {},
   "source": [
    "# Music Generation\n",
    "\n",
    "https://www.kaggle.com/code/karnikakapoor/music-generation-lstm/notebook#IMPORTING-LIBRARIES"
   ]
  },
  {
   "cell_type": "markdown",
   "id": "e7be23f0-2987-4688-b4fd-801791326db7",
   "metadata": {},
   "source": [
    "## Libraries"
   ]
  },
  {
   "cell_type": "code",
   "execution_count": 1,
   "id": "43ebfc27-94af-47ee-aa74-ac069f045428",
   "metadata": {
    "tags": []
   },
   "outputs": [],
   "source": [
    "# pip install music21"
   ]
  },
  {
   "cell_type": "code",
   "execution_count": 2,
   "id": "890f75bc-5740-4cf6-ad3d-a2a0e1bffd1c",
   "metadata": {},
   "outputs": [],
   "source": [
    "import numpy as np\n",
    "import pandas as pd\n",
    "\n",
    "import sys\n",
    "import os\n",
    "\n",
    "import music21\n",
    "from music21 import *\n",
    "\n",
    "import IPython\n",
    "from IPython.display import Image, Audio\n",
    "\n",
    "import warnings\n",
    "warnings.filterwarnings(\"ignore\")\n",
    "warnings.simplefilter(\"ignore\")\n",
    "\n",
    "from collections import Counter\n",
    "\n",
    "import matplotlib.pyplot as plt\n",
    "import seaborn as sns\n",
    "\n",
    "from sklearn.model_selection import train_test_split\n",
    "\n",
    "import tensorflow\n",
    "import tensorflow.keras.backend as K\n",
    "from tensorflow.keras.models import Sequential\n",
    "from tensorflow.keras.layers import LSTM, Dense, Dropout\n",
    "from tensorflow.keras.optimizers import Adamax\n",
    "from keras.models import load_model"
   ]
  },
  {
   "cell_type": "code",
   "execution_count": 3,
   "id": "b5cc43f5-7187-40a5-b434-a6ad03d0deae",
   "metadata": {},
   "outputs": [],
   "source": [
    "# pip install protobuf==3.19.0"
   ]
  },
  {
   "cell_type": "markdown",
   "id": "d59e3ced-e17f-4b60-9923-e63a90b2e6cd",
   "metadata": {},
   "source": [
    "## Loading Data"
   ]
  },
  {
   "cell_type": "markdown",
   "id": "4de9e584-ffdf-4b07-b4fc-d3ab963c2dcb",
   "metadata": {},
   "source": [
    "Data source: http://www.piano-midi.de/\n",
    "\n",
    "Why MIDI? \n",
    "\n",
    "Advantages of MIDI include small file size, ease of modification and manipulation and a wide choice of electronic instruments and synthesizer or digitally sampled sounds.\n",
    "\n",
    "1. Make a list of all the songs in the Beethoven folder.\n",
    "2. Create a function to extract chords and notes out of the data creating a corpus"
   ]
  },
  {
   "cell_type": "code",
   "execution_count": 4,
   "id": "6591d750-b1e5-498c-888a-699ad770a943",
   "metadata": {},
   "outputs": [
    {
     "name": "stdout",
     "output_type": "stream",
     "text": [
      "CPU times: total: 36.5 s\n",
      "Wall time: 42.2 s\n"
     ]
    }
   ],
   "source": [
    "%%time\n",
    "\n",
    "filepath = \"Data/beeth/\"\n",
    "\n",
    "all_midis = []\n",
    "for i in os.listdir(filepath): #import OS\n",
    "    if i.endswith(\".mid\"):\n",
    "        tr = filepath + i\n",
    "        midi = converter.parse(tr) #from music21 import*\n",
    "        all_midis.append(midi)"
   ]
  },
  {
   "cell_type": "code",
   "execution_count": 5,
   "id": "6060d2d4-6b56-455a-801d-cbcd46909dea",
   "metadata": {},
   "outputs": [
    {
     "data": {
      "text/plain": [
       "[<music21.stream.Score 0x1a4a32fdc40>,\n",
       " <music21.stream.Score 0x1a4b8d267f0>,\n",
       " <music21.stream.Score 0x1a4a32fde20>,\n",
       " <music21.stream.Score 0x1a4be0d5160>,\n",
       " <music21.stream.Score 0x1a4c1860940>,\n",
       " <music21.stream.Score 0x1a4c18f28b0>,\n",
       " <music21.stream.Score 0x1a4c47cb400>,\n",
       " <music21.stream.Score 0x1a4bcc876a0>,\n",
       " <music21.stream.Score 0x1a4c5f0a490>,\n",
       " <music21.stream.Score 0x1a4c56465b0>,\n",
       " <music21.stream.Score 0x1a4cd9498e0>,\n",
       " <music21.stream.Score 0x1a4cf32efd0>,\n",
       " <music21.stream.Score 0x1a4cfa51fa0>,\n",
       " <music21.stream.Score 0x1a4d0238520>,\n",
       " <music21.stream.Score 0x1a4d4ed8d00>,\n",
       " <music21.stream.Score 0x1a4d519ea60>,\n",
       " <music21.stream.Score 0x1a4d593ca00>,\n",
       " <music21.stream.Score 0x1a4d6454130>,\n",
       " <music21.stream.Score 0x1a4d8b14820>,\n",
       " <music21.stream.Score 0x1a4db2256d0>,\n",
       " <music21.stream.Score 0x1a4db619250>,\n",
       " <music21.stream.Score 0x1a4db23ca00>,\n",
       " <music21.stream.Score 0x1a4dd492b20>,\n",
       " <music21.stream.Score 0x1a4dd075d30>,\n",
       " <music21.stream.Score 0x1a4e3e34df0>,\n",
       " <music21.stream.Score 0x1a4e4e99a60>,\n",
       " <music21.stream.Score 0x1a4e5fadd00>,\n",
       " <music21.stream.Score 0x1a4d8d33c70>,\n",
       " <music21.stream.Score 0x1a4e6c8cdc0>]"
      ]
     },
     "execution_count": 5,
     "metadata": {},
     "output_type": "execute_result"
    }
   ],
   "source": [
    "all_midis"
   ]
  },
  {
   "cell_type": "markdown",
   "id": "0b0dee62-41c5-43a9-b204-45ae97146a38",
   "metadata": {},
   "source": [
    "Above music21 stream contains chords which is made of different notes.\n",
    "\n",
    "**Note:** Basic building block associated with specific vibration. There are 12 notes in western music\n",
    "\n",
    "**Chord:** A group of notes that sounds good together\n",
    "\n",
    "3. Get the notes and chords out of the MIDI files."
   ]
  },
  {
   "cell_type": "code",
   "execution_count": 6,
   "id": "2d84128a-edd2-4cd8-9fc1-deeb642940a0",
   "metadata": {},
   "outputs": [],
   "source": [
    "def extract_notes(file):\n",
    "    notes = []\n",
    "    pick = None\n",
    "    for j in file:\n",
    "        songs = instrument.partitionByInstrument(j) #partition into a Part for each unique Instrument\n",
    "        for part in songs.parts:\n",
    "            pick = part.recurse()\n",
    "            for element in pick:\n",
    "                if isinstance(element, note.Note):\n",
    "                    notes.append(str(element.pitch))\n",
    "                elif isinstance(element, chord.Chord):\n",
    "                    notes.append(\".\".join(str(n) for n in element.normalOrder))\n",
    "    return notes"
   ]
  },
  {
   "cell_type": "code",
   "execution_count": 7,
   "id": "549a34df-1faf-44b6-8d5d-9da4b63d3bcc",
   "metadata": {},
   "outputs": [
    {
     "name": "stdout",
     "output_type": "stream",
     "text": [
      "Total notes: 81312\n"
     ]
    }
   ],
   "source": [
    "Corpus = extract_notes(all_midis)\n",
    "print(\"Total notes:\", len(Corpus))"
   ]
  },
  {
   "cell_type": "markdown",
   "id": "776b9c41-f2dc-4a50-8e48-7a682dcaa7b6",
   "metadata": {},
   "source": [
    "Data in now in the form of a corpus (collection of strings, in this case, notes and chords)."
   ]
  },
  {
   "cell_type": "markdown",
   "id": "4fe6bf01-50c3-4289-a6ec-f8c3d6456141",
   "metadata": {},
   "source": [
    "## Data Exploration"
   ]
  },
  {
   "cell_type": "markdown",
   "id": "84c9f7e0-4dfd-4dd5-a0a5-e59c36adb5b1",
   "metadata": {},
   "source": [
    "* Explore the data Corpus\n",
    "* Examine the notes\n",
    "* Simplify Corpus to built a working model"
   ]
  },
  {
   "cell_type": "code",
   "execution_count": 8,
   "id": "74d7c164-79aa-4fa1-81c6-74cbd95f2cc7",
   "metadata": {},
   "outputs": [
    {
     "data": {
      "text/plain": [
       "['C4',\n",
       " 'C2',\n",
       " 'G#3',\n",
       " 'G#1',\n",
       " 'F3',\n",
       " 'F1',\n",
       " 'G#3',\n",
       " 'G#1',\n",
       " 'C4',\n",
       " 'C2',\n",
       " 'F4',\n",
       " 'F2',\n",
       " 'G#4',\n",
       " 'G#2',\n",
       " 'C5',\n",
       " 'C3',\n",
       " 'F5',\n",
       " 'F3',\n",
       " 'F4',\n",
       " 'G#3',\n",
       " 'C5',\n",
       " '0.4.7',\n",
       " 'D5',\n",
       " '0.2',\n",
       " '5.8.11',\n",
       " '2.4',\n",
       " '2.4',\n",
       " '2.4',\n",
       " '2.4',\n",
       " '2.4']"
      ]
     },
     "execution_count": 8,
     "metadata": {},
     "output_type": "execute_result"
    }
   ],
   "source": [
    "# First few values in the Corpus\n",
    "Corpus[:30]"
   ]
  },
  {
   "cell_type": "markdown",
   "id": "b2e34fc7-2f3d-47b9-9266-1db9357f634e",
   "metadata": {},
   "source": [
    "Above are the music notes.\n",
    "\n",
    "`G5`, `F#5`, etc are notes.\n",
    "\n",
    "`2.6.9`, `9.2`, etc are chords."
   ]
  },
  {
   "cell_type": "markdown",
   "id": "f463f683-d2c4-4c3a-b08d-5926ef7d819c",
   "metadata": {},
   "source": [
    "### Create Music Sheet"
   ]
  },
  {
   "cell_type": "code",
   "execution_count": 9,
   "id": "733c1e5c-a7e2-436b-8168-6012eed2b8a3",
   "metadata": {},
   "outputs": [],
   "source": [
    "def show(music):\n",
    "    display(Image(str(music.write(\"lily.png\")))) #from IPython.display import Image, Audio\n",
    "    \n",
    "def chords_n_notes(Snippet):\n",
    "    Melody = []\n",
    "    offset = 0\n",
    "    for i in Snippet:\n",
    "        if (\".\" in i or i.isdigit()): # if chord\n",
    "            chord_notes = i.split(\".\") # split into notes\n",
    "            notes = []\n",
    "            for j in chord_notes:\n",
    "                inst_note = int(j)\n",
    "                note_snip = note.Note(inst_note)\n",
    "                notes.append(note_snip)\n",
    "                chord_snip = chord.Chord(notes)\n",
    "                chord_snip.offset = offset # so that notes dont stack\n",
    "                Melody.append(chord_snip)\n",
    "        else:\n",
    "            note_snip = note.Note(i)\n",
    "            note_snip.offset = offset\n",
    "            Melody.append(note_snip)\n",
    "        \n",
    "        offset += 1\n",
    "    Melody_midi = stream.Stream(Melody)\n",
    "    return Melody_midi"
   ]
  },
  {
   "cell_type": "code",
   "execution_count": 10,
   "id": "802ae5b0-bb22-4cb2-8acc-93aedc974f21",
   "metadata": {},
   "outputs": [],
   "source": [
    "# us = environment.UserSettings()\n",
    "# us.create()\n",
    "# us['lilypondPath'] = r'LilyPond\\usr\\bin\\lilypond.exe'"
   ]
  },
  {
   "cell_type": "code",
   "execution_count": 11,
   "id": "69c8dc56-3d5d-4b18-8c6d-7083c89ecf28",
   "metadata": {},
   "outputs": [
    {
     "data": {
      "image/png": "[encoded data removed]",
      "text/plain": [
       "<IPython.core.display.Image object>"
      ]
     },
     "metadata": {},
     "output_type": "display_data"
    }
   ],
   "source": [
    "Melody_Snippet = chords_n_notes(Corpus[:100])\n",
    "show(Melody_Snippet)"
   ]
  },
  {
   "cell_type": "markdown",
   "id": "73824452-b3b7-486b-a7a3-21e5cc1f9540",
   "metadata": {},
   "source": [
    "### Examine the notes in the Corpus"
   ]
  },
  {
   "cell_type": "code",
   "execution_count": 12,
   "id": "72985855-07f2-4e3b-900a-b8886b3637b8",
   "metadata": {},
   "outputs": [
    {
     "name": "stdout",
     "output_type": "stream",
     "text": [
      "Total unique notes in the Corpus: 349\n"
     ]
    }
   ],
   "source": [
    "#Creating a count dictionary\n",
    "count_num = Counter(Corpus) # from collections import Counter\n",
    "print(\"Total unique notes in the Corpus:\", len(count_num))"
   ]
  },
  {
   "cell_type": "code",
   "execution_count": 13,
   "id": "ae631ae2-5467-42a2-b3e7-50408683a315",
   "metadata": {},
   "outputs": [
    {
     "name": "stdout",
     "output_type": "stream",
     "text": [
      "Average recurrence for a note in Corpus: 233 times.\n",
      "Most frequent note in Corpus appeared: 2094 times.\n",
      "Least frequent note in Corpus appeared: 1 times.\n"
     ]
    }
   ],
   "source": [
    "#Exploring the notes dictionary\n",
    "Notes = list(count_num.keys())\n",
    "Recurrence = list(count_num.values())\n",
    "\n",
    "#Average recurrence for a note in Corpus\n",
    "def Average(lst):\n",
    "    return sum(lst) / len(lst)\n",
    "\n",
    "print(\"Average recurrence for a note in Corpus:\", round(Average(Recurrence)), \"times.\")\n",
    "print(\"Most frequent note in Corpus appeared:\", max(Recurrence), \"times.\")\n",
    "print(\"Least frequent note in Corpus appeared:\", min(Recurrence), \"times.\")"
   ]
  },
  {
   "cell_type": "code",
   "execution_count": 14,
   "id": "a1327645-b763-4655-9153-31a611421ec8",
   "metadata": {},
   "outputs": [
    {
     "data": {
      "image/png": "[encoded data removed]",
      "text/plain": [
       "<Figure size 720x360 with 1 Axes>"
      ]
     },
     "metadata": {
      "image/png": {
       "height": 331,
       "width": 612
      }
     },
     "output_type": "display_data"
    }
   ],
   "source": [
    "# Plotting the distribution of Notes\n",
    "plt.figure(figsize=(10, 5), facecolor=\"tan\")\n",
    "bins = np.arange(0, (max(Recurrence)), 50)\n",
    "plt.hist(Recurrence, bins=bins, color=\"c\")\n",
    "plt.axvline(x=100, color=\"r\")\n",
    "plt.title(\"Frequency Distribution of Notes in the Corpus\")\n",
    "plt.xlabel(\"Frequency of Chords in Corpus\")\n",
    "plt.ylabel(\"Number of Chords\")\n",
    "plt.show()"
   ]
  },
  {
   "cell_type": "markdown",
   "id": "328ddb45-79bd-4733-be22-eec077bad4f3",
   "metadata": {},
   "source": [
    "### Filtering out rare notes (played less than 100 times)"
   ]
  },
  {
   "cell_type": "code",
   "execution_count": 15,
   "id": "067d9cff-3246-4e53-87c6-0ec9c3d39112",
   "metadata": {},
   "outputs": [
    {
     "name": "stdout",
     "output_type": "stream",
     "text": [
      "Total number of notes that occur less than 100 times: 215\n"
     ]
    }
   ],
   "source": [
    "rare_note = []\n",
    "for index, (key, value) in enumerate(count_num.items()):\n",
    "    if value < 100:\n",
    "        m = key\n",
    "        rare_note.append(m)\n",
    "        \n",
    "print(\"Total number of notes that occur less than 100 times:\", len(rare_note))"
   ]
  },
  {
   "cell_type": "code",
   "execution_count": 16,
   "id": "af58c196-05b7-4285-9bca-bf3d249f1b50",
   "metadata": {},
   "outputs": [
    {
     "name": "stdout",
     "output_type": "stream",
     "text": [
      "Length of Corpus after elemination the rare notes: 77579\n"
     ]
    }
   ],
   "source": [
    "for element in Corpus:\n",
    "    if element in rare_note:\n",
    "        Corpus.remove(element)\n",
    "        \n",
    "print(\"Length of Corpus after elemination the rare notes:\", len(Corpus))"
   ]
  },
  {
   "cell_type": "markdown",
   "id": "8a5cc577-65db-4294-b3d7-beb8f6f18112",
   "metadata": {},
   "source": [
    "## Data Preprocessing\n",
    "\n",
    "Steps\n",
    "* Creating a notes Dictionary\n",
    "* Encoding and splitting the corpus\n",
    "* Assigning X and y\n",
    "* Splitting Train and Seed datasets"
   ]
  },
  {
   "cell_type": "markdown",
   "id": "c306cd83-4bc7-4955-89ed-f0be53fd645b",
   "metadata": {},
   "source": [
    "### Creating a notes dictionary\n",
    "Creating a dictionary to map the notes and their indices. We have the note's name as a string the Corpus. For the computer, these names are just a symbol. So we create a dictionary to map each unique note in our Corpus to a number. And vice versa to retrieve the values at the time of prediction. This will be used to encode and decode the information going in and getting out of the RNN."
   ]
  },
  {
   "cell_type": "code",
   "execution_count": 17,
   "id": "43bcf88c-fd29-4d2c-9411-6c4830ff1181",
   "metadata": {},
   "outputs": [
    {
     "name": "stdout",
     "output_type": "stream",
     "text": [
      "Total number of characters: 77579\n",
      "Number of unique characters: 253\n"
     ]
    }
   ],
   "source": [
    "# Storing all the unique characters present in my corpus to built a mapping dic.\n",
    "symb = sorted(list(set(Corpus)))\n",
    "\n",
    "L_corpus = len(Corpus)\n",
    "L_symb = len(symb)\n",
    "\n",
    "# Building dictionary to access the vocabulary from indices and vice cersa\n",
    "mapping = dict((c, i) for i, c in enumerate(symb))\n",
    "reverse_mapping = dict((i, c) for i, c in enumerate(symb))\n",
    "\n",
    "print(\"Total number of characters:\", L_corpus)\n",
    "print(\"Number of unique characters:\", L_symb)"
   ]
  },
  {
   "cell_type": "markdown",
   "id": "99b16fb8-c530-4dab-93a0-498f5330b4e7",
   "metadata": {},
   "source": [
    "### Encoding and splitting the corpus\n",
    "\n",
    "Encoding and splitting the corpus into smaller sequences of equal length: At this point, the Corpus contain notes. We will encode this corpus and create small sequences of equal lemgths of features and the corresponding targets. Each feature and target will contain the maped index in the dicitonary of the unique characters they signify."
   ]
  },
  {
   "cell_type": "code",
   "execution_count": 18,
   "id": "f29b852b-67c0-45ed-affd-6fe869669ee5",
   "metadata": {},
   "outputs": [
    {
     "name": "stdout",
     "output_type": "stream",
     "text": [
      "Total number of sequences in th Corpus: 77539\n"
     ]
    }
   ],
   "source": [
    "# Splitting the corpus in eqyal length of strings and output target\n",
    "length = 40\n",
    "features = []\n",
    "targets = []\n",
    "for i in range(0, L_corpus - length, 1):\n",
    "    feature = Corpus[i:i + length]\n",
    "    target = Corpus[i + length]\n",
    "    features.append([mapping[j] for j in feature])\n",
    "    targets.append(mapping[target])\n",
    "\n",
    "L_datapoints = len(targets)\n",
    "print(\"Total number of sequences in th Corpus:\", L_datapoints)"
   ]
  },
  {
   "cell_type": "markdown",
   "id": "d366ace1-af2c-42db-9eda-c9d8a5255f5a",
   "metadata": {},
   "source": [
    "### Asigning X and y\n",
    "The labels are then resized and normalized. Whereas the targets are one-hot encoded. Ready to be sent to the RNN for the training, but before that let us built the RNN model."
   ]
  },
  {
   "cell_type": "code",
   "execution_count": 19,
   "id": "9495a9d3-2353-45f8-a192-8c515ad95944",
   "metadata": {},
   "outputs": [],
   "source": [
    "# reshape X nd normalize\n",
    "X = (np.reshape(features, (L_datapoints, length, 1)))/float(L_symb)"
   ]
  },
  {
   "cell_type": "code",
   "execution_count": 20,
   "id": "d061e150-a8ee-4beb-9dd2-1c5dee83c14f",
   "metadata": {},
   "outputs": [],
   "source": [
    "# one hot encode the output cariable\n",
    "y = tensorflow.keras.utils.to_categorical(targets)"
   ]
  },
  {
   "cell_type": "markdown",
   "id": "e90699b0-49fe-462e-941a-49c79108de5f",
   "metadata": {},
   "source": [
    "### Splitting Train and Seed datasets\n",
    "To create music, we will need to send some input to the RNN. For that, we will set aside a part of the data as seeds. We could have trained it all but I am no musician to come up with an input seed value."
   ]
  },
  {
   "cell_type": "code",
   "execution_count": 21,
   "id": "2ed6d63a-988d-4780-8260-d36ca654f65e",
   "metadata": {},
   "outputs": [],
   "source": [
    "# Taking out a subset of data to be used as seed\n",
    "X_train, X_seed, y_train, y_seed = train_test_split(X, y, test_size=0.2, random_state=42)"
   ]
  },
  {
   "cell_type": "markdown",
   "id": "7e67180e-e35a-4a88-9df5-b7293f2655ef",
   "metadata": {},
   "source": [
    "## Model Building"
   ]
  },
  {
   "cell_type": "markdown",
   "id": "ae3b679d-146b-40f1-906c-408b579c5e4c",
   "metadata": {},
   "source": [
    "### LSTM Model\n",
    "\n",
    "Steps\n",
    "* Initialising the Model\n",
    "* Defining by adding layers\n",
    "* Compiling the Model\n",
    "* Training the Model\n",
    "\n",
    "Note: Optimier Adamax is introduced as special case of adam where its seconod-order moment v0 is replaced by infinite-order moment. The infinite-order norm makes the algorithm surprisingly stable."
   ]
  },
  {
   "cell_type": "markdown",
   "id": "ea1da7fe-54a8-4727-9d64-9078da7b2ec9",
   "metadata": {},
   "source": [
    "#### Building the Model"
   ]
  },
  {
   "cell_type": "code",
   "execution_count": 22,
   "id": "e9582b3e-8201-4828-ae19-0f582ce2c9e1",
   "metadata": {},
   "outputs": [],
   "source": [
    "# Initializing the Model\n",
    "model = Sequential()\n",
    "\n",
    "# Adding layers\n",
    "model.add(LSTM(512, input_shape=(X.shape[1], X.shape[2]), return_sequences=True))\n",
    "model.add(Dropout(0.1))\n",
    "model.add(LSTM(256))\n",
    "model.add(Dense(256))\n",
    "model.add(Dropout(0.1))\n",
    "model.add(Dense(y.shape[1], activation='softmax'))\n",
    "\n",
    "#Compiling the model for training\n",
    "opt = Adamax(learning_rate=0.01)\n",
    "model.compile(loss='categorical_crossentropy', optimizer=opt)"
   ]
  },
  {
   "cell_type": "code",
   "execution_count": 23,
   "id": "8f201b9d-d086-4796-822e-d5a31ed1cfc4",
   "metadata": {},
   "outputs": [
    {
     "name": "stdout",
     "output_type": "stream",
     "text": [
      "Model: \"sequential\"\n",
      "_________________________________________________________________\n",
      " Layer (type)                Output Shape              Param #   \n",
      "=================================================================\n",
      " lstm (LSTM)                 (None, 40, 512)           1052672   \n",
      "                                                                 \n",
      " dropout (Dropout)           (None, 40, 512)           0         \n",
      "                                                                 \n",
      " lstm_1 (LSTM)               (None, 256)               787456    \n",
      "                                                                 \n",
      " dense (Dense)               (None, 256)               65792     \n",
      "                                                                 \n",
      " dropout_1 (Dropout)         (None, 256)               0         \n",
      "                                                                 \n",
      " dense_1 (Dense)             (None, 253)               65021     \n",
      "                                                                 \n",
      "=================================================================\n",
      "Total params: 1,970,941\n",
      "Trainable params: 1,970,941\n",
      "Non-trainable params: 0\n",
      "_________________________________________________________________\n"
     ]
    }
   ],
   "source": [
    "# Model's summary\n",
    "model.summary()"
   ]
  },
  {
   "cell_type": "code",
   "execution_count": 24,
   "id": "abfd86fa-a47f-438a-a91b-6e833c814faa",
   "metadata": {
    "tags": []
   },
   "outputs": [],
   "source": [
    "# history = model.fit(X_train, y_train, batch_size=256, epochs=200)"
   ]
  },
  {
   "cell_type": "markdown",
   "id": "e5d11f30-33a3-4768-a6ac-5e1272abacdf",
   "metadata": {},
   "source": [
    "#### Saving and loading the model"
   ]
  },
  {
   "cell_type": "code",
   "execution_count": 25,
   "id": "26eb80ff-7c90-4b27-911c-6385b20288ff",
   "metadata": {},
   "outputs": [],
   "source": [
    "# saving model\n",
    "# model.save('model_01.h5')\n",
    "\n",
    "#deletes existing model\n",
    "# del model"
   ]
  },
  {
   "cell_type": "code",
   "execution_count": 26,
   "id": "91036cc7-0f18-40b2-b65f-a3c37394679f",
   "metadata": {},
   "outputs": [],
   "source": [
    "# Loading model\n",
    "model = load_model('model_01.h5')"
   ]
  },
  {
   "cell_type": "code",
   "execution_count": 27,
   "id": "5a84c31d-3de7-4c3f-a405-e15dcf94776c",
   "metadata": {},
   "outputs": [],
   "source": [
    "history = model"
   ]
  },
  {
   "cell_type": "markdown",
   "id": "726a5ad8-9b80-4431-97b3-fa577a3bcabb",
   "metadata": {},
   "source": [
    "### Model Evaluation\n",
    "\n",
    "* Check the performance of the model via Learning Curves\n",
    "* Evaluate the melody created"
   ]
  },
  {
   "cell_type": "markdown",
   "id": "e54946b5-8dbd-409f-b6c0-42cea4fc761c",
   "metadata": {},
   "source": [
    "#### Plotting the learning curve for the loss function"
   ]
  },
  {
   "cell_type": "code",
   "execution_count": 28,
   "id": "452d68db-eaeb-4dfb-a126-d6365ad95b13",
   "metadata": {
    "tags": []
   },
   "outputs": [],
   "source": [
    "# history_df = pd.DataFrame(history.history)\n",
    "# fig = plt.figure(figsize=(15, 4), facecolor = \"tan\")\n",
    "# fig.suptitle(\"Learning Plot of Model for Loss\")\n",
    "# pl = sns.lineplot(data=history_df[\"loss\"], color=\"c\")\n",
    "# pl.set(ylabel = \"Training Loss\")\n",
    "# pl.set(xlabel = \"Epochs\")"
   ]
  },
  {
   "cell_type": "code",
   "execution_count": 29,
   "id": "c7806da5-3a2e-44a5-bba6-890c5ae11b3a",
   "metadata": {},
   "outputs": [],
   "source": [
    "# history_df"
   ]
  },
  {
   "cell_type": "code",
   "execution_count": 30,
   "id": "99db5ff8-98cf-4f54-928b-05b31635de44",
   "metadata": {},
   "outputs": [
    {
     "data": {
      "image/png": "[encoded data removed]",
      "text/plain": [
       "<IPython.core.display.Image object>"
      ]
     },
     "metadata": {},
     "output_type": "display_data"
    }
   ],
   "source": [
    "def Melody_Generator(Note_Count):\n",
    "    seed = X_seed[np.random.randint(0,len(X_seed)-1)]\n",
    "    Music = \"\"\n",
    "    Notes_Generated=[]\n",
    "    for i in range(Note_Count):\n",
    "        seed = seed.reshape(1,length,1)\n",
    "        prediction = model.predict(seed, verbose=0)[0]\n",
    "        prediction = np.log(prediction) / 1.0 #diversity\n",
    "        exp_preds = np.exp(prediction)\n",
    "        prediction = exp_preds / np.sum(exp_preds)\n",
    "        index = np.argmax(prediction)\n",
    "        index_N = index/ float(L_symb)   \n",
    "        Notes_Generated.append(index)\n",
    "        Music = [reverse_mapping[char] for char in Notes_Generated]\n",
    "        seed = np.insert(seed[0],len(seed[0]),index_N)\n",
    "        seed = seed[1:]\n",
    "    #Now, we have music in form or a list of chords and notes and we want to be a midi file.\n",
    "    Melody = chords_n_notes(Music)\n",
    "    Melody_midi = stream.Stream(Melody)   \n",
    "    return Music,Melody_midi\n",
    "\n",
    "\n",
    "#getting the Notes and Melody created by the model\n",
    "Music_notes, Melody = Melody_Generator(100)\n",
    "show(Melody)"
   ]
  },
  {
   "cell_type": "code",
   "execution_count": 31,
   "id": "e0d8dc68-b69e-4c2f-96fd-508fb16e9704",
   "metadata": {},
   "outputs": [
    {
     "data": {
      "text/plain": [
       "'Melody_Generated.mid'"
      ]
     },
     "execution_count": 31,
     "metadata": {},
     "output_type": "execute_result"
    }
   ],
   "source": [
    "#To save the generated melody\n",
    "Melody.write('midi','Melody_Generated.mid')"
   ]
  },
  {
   "cell_type": "code",
   "execution_count": 22,
   "id": "68fb1cef-4d18-467c-9b80-67cf44fd123c",
   "metadata": {},
   "outputs": [],
   "source": [
    "song_1 = \"Melody_Generated.mid\"\n",
    "pygame.mixer.music.load(song_1)\n",
    "pygame.mixer.music.play()"
   ]
  },
  {
   "cell_type": "code",
   "execution_count": 33,
   "id": "67775671-92d1-48ad-91dc-909f389a956a",
   "metadata": {},
   "outputs": [
    {
     "data": {
      "image/png": "[encoded data removed]",
      "text/plain": [
       "<IPython.core.display.Image object>"
      ]
     },
     "metadata": {},
     "output_type": "display_data"
    }
   ],
   "source": [
    "Music_notes, Melody = Melody_Generator(90)\n",
    "show(Melody)"
   ]
  },
  {
   "cell_type": "code",
   "execution_count": 34,
   "id": "98eba897-d10e-4212-852a-d045906aeac8",
   "metadata": {},
   "outputs": [
    {
     "data": {
      "text/plain": [
       "'Melody_Generated_01.mid'"
      ]
     },
     "execution_count": 34,
     "metadata": {},
     "output_type": "execute_result"
    }
   ],
   "source": [
    "Melody.write('midi','Melody_Generated_01.mid')"
   ]
  },
  {
   "cell_type": "code",
   "execution_count": 21,
   "id": "ac450b32-1c46-4d68-a00c-9be3f0589e4e",
   "metadata": {},
   "outputs": [],
   "source": [
    "song_1 = \"Melody_Generated_01.mid\"\n",
    "pygame.mixer.music.load(song_1)\n",
    "pygame.mixer.music.play()"
   ]
  },
  {
   "cell_type": "code",
   "execution_count": null,
   "id": "ab3f1af1-0635-42b6-a35c-ee74e12014b2",
   "metadata": {},
   "outputs": [],
   "source": []
  }
 ],
 "metadata": {
  "kernelspec": {
   "display_name": "Python 3 (ipykernel)",
   "language": "python",
   "name": "python3"
  },
  "language_info": {
   "codemirror_mode": {
    "name": "ipython",
    "version": 3
   },
   "file_extension": ".py",
   "mimetype": "text/x-python",
   "name": "python",
   "nbconvert_exporter": "python",
   "pygments_lexer": "ipython3",
   "version": "3.9.12"
  }
 },
 "nbformat": 4,
 "nbformat_minor": 5
}
